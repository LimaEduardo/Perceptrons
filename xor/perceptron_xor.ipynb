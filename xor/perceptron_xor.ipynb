{
 "cells": [
  {
   "cell_type": "markdown",
   "metadata": {},
   "source": [
    "# Perceptron para predizer um XOR"
   ]
  },
  {
   "cell_type": "markdown",
   "metadata": {},
   "source": [
    "Importações necessárias para rodar a aplicação"
   ]
  },
  {
   "cell_type": "code",
   "execution_count": 6,
   "metadata": {},
   "outputs": [],
   "source": [
    "import numpy as np"
   ]
  },
  {
   "cell_type": "markdown",
   "metadata": {},
   "source": [
    "Classe Perceptron"
   ]
  },
  {
   "cell_type": "code",
   "execution_count": 7,
   "metadata": {},
   "outputs": [],
   "source": [
    "class Perceptron(object):\n",
    "    def __init__(self, input_size, lr=1, epochs=100):\n",
    "        self.W = np.zeros(input_size+1)\n",
    "        # add one for bias\n",
    "        self.epochs = epochs\n",
    "        self.lr = lr\n",
    "    \n",
    "    def activation_fn(self, x):\n",
    "        #return (x >= 0).astype(np.float32)\n",
    "        #print( \" x=\", x)\n",
    "        return 1 if x >= 0 else 0\n",
    " \n",
    "    def predict(self, x):\n",
    "        z = self.W.T.dot(x)\n",
    "        a = self.activation_fn(z)\n",
    "        return a\n",
    " \n",
    "    def fit(self, X, d):\n",
    "        for _ in range(self.epochs):\n",
    "            for i in range(d.shape[0]):\n",
    "                x = np.insert(X[i], 0, 1)\n",
    "                y = self.predict(x)\n",
    "                e = d[i] - y\n",
    "                self.W = self.W + self.lr * e * x\n"
   ]
  },
  {
   "cell_type": "markdown",
   "metadata": {},
   "source": [
    "Define arrays de teste para and, or, not e xor\n",
    "\n",
    "as respostas do xor serão usadas para teste no final do programa"
   ]
  },
  {
   "cell_type": "code",
   "execution_count": 8,
   "metadata": {},
   "outputs": [],
   "source": [
    "if __name__ == '__main__':\n",
    "    \n",
    "    training_array = [[0,0], [0,1], [1,0], [1,1]]\n",
    "    not_training_array = [[0],[1]]\n",
    "    \n",
    "    and_answers = [0,0,0,1]\n",
    "    or_answers = [0,1,1,1]\n",
    "    not_answers= [1,0]\n",
    "    xor_expected_answers = [0,1,1,0]"
   ]
  },
  {
   "cell_type": "markdown",
   "metadata": {},
   "source": [
    "Criando e treinando os pecptrons para AND, OR e NOT"
   ]
  },
  {
   "cell_type": "code",
   "execution_count": 9,
   "metadata": {},
   "outputs": [
    {
     "name": "stdout",
     "output_type": "stream",
     "text": [
      "The W results for AND perceptron =  [-3.  2.  1.]\n",
      "The W results for OR perceptron =  [-1.  1.  1.]\n",
      "The W results for NOT perceptron =  [ 0. -1.]\n"
     ]
    }
   ],
   "source": [
    "    #Training AND perceptron\n",
    "\n",
    "    training_array = np.array(training_array)\n",
    "    and_answers = np.array(and_answers)\n",
    "\n",
    "    and_perceptron = Perceptron(input_size=len(training_array[0]))\n",
    "    and_perceptron.fit(training_array, and_answers)\n",
    "    print(\"The W results for AND perceptron = \",and_perceptron.W)\n",
    "\n",
    "    #Training OR perceptron\n",
    "\n",
    "    training_array = np.array(training_array)\n",
    "    or_answers = np.array(or_answers)\n",
    "\n",
    "    or_perceptron = Perceptron(input_size=len(training_array[0]))\n",
    "    or_perceptron.fit(training_array, or_answers)\n",
    "    print(\"The W results for OR perceptron = \",or_perceptron.W)\n",
    "\n",
    "    #Training NOT perceptron\n",
    "\n",
    "    not_training_array = np.array(not_training_array)\n",
    "    not_answers = np.array(not_answers)\n",
    "\n",
    "    not_perceptron = Perceptron(input_size=len(not_training_array[0]))\n",
    "    not_perceptron.fit(not_training_array, not_answers)\n",
    "    print(\"The W results for NOT perceptron = \",not_perceptron.W)\n"
   ]
  },
  {
   "cell_type": "markdown",
   "metadata": {},
   "source": [
    "Agora vamos usar os perceptrons criados e treinados para chegar na resposta do XOR.\n",
    "\n",
    "Iremos testar o XOR com cada uma das entradas [[0,0], [0,1], [1,0], [1,1]]"
   ]
  },
  {
   "cell_type": "markdown",
   "metadata": {},
   "source": [
    "A lógica é:\n",
    "\n",
    "* A entrada passará por uma porta OR e por uma porta NOT AND\n",
    "* Em seguida, o resultado das duas portas é jogado para a porta AND no final, oferecendo o resultado do XOR\n",
    "\n",
    "No final, testamos se a resposta dada pelos perceptrons é a mesma da esperada por uma porta XOR"
   ]
  },
  {
   "cell_type": "code",
   "execution_count": 10,
   "metadata": {},
   "outputs": [
    {
     "name": "stdout",
     "output_type": "stream",
     "text": [
      "\n",
      "\n",
      "*****\n",
      "The entry was:  [0 0]\n",
      "The prediction was:  0\n",
      "The correct answer is:  0\n",
      "*****\n",
      "\n",
      "\n",
      "\n",
      "\n",
      "*****\n",
      "The entry was:  [0 1]\n",
      "The prediction was:  1\n",
      "The correct answer is:  1\n",
      "*****\n",
      "\n",
      "\n",
      "\n",
      "\n",
      "*****\n",
      "The entry was:  [1 0]\n",
      "The prediction was:  1\n",
      "The correct answer is:  1\n",
      "*****\n",
      "\n",
      "\n",
      "\n",
      "\n",
      "*****\n",
      "The entry was:  [1 1]\n",
      "The prediction was:  0\n",
      "The correct answer is:  0\n",
      "*****\n",
      "\n",
      "\n"
     ]
    }
   ],
   "source": [
    "    for index,entry in enumerate(training_array):\n",
    "\n",
    "        or_entry = np.insert(entry, 0 , 1)\n",
    "        or_prediction = or_perceptron.predict(or_entry)\n",
    "\n",
    "        and_entry = np.insert(entry, 0 , 1)\n",
    "        and_prediction = and_perceptron.predict(and_entry)\n",
    "\n",
    "        not_and_entry = np.insert([and_prediction], 0 , 1)\n",
    "        not_and_prediction = not_perceptron.predict(not_and_entry)\n",
    "\n",
    "        xor_entry = np.insert([or_prediction, not_and_prediction], 0 , 1)\n",
    "        xor_prediction = and_perceptron.predict(xor_entry)\n",
    "\n",
    "        print(\"\\n\\n*****\")\n",
    "        print(\"The entry was: \", entry)\n",
    "        print(\"The prediction was: \", xor_prediction)\n",
    "        print(\"The correct answer is: \", xor_expected_answers[index])\n",
    "        print(\"*****\\n\\n\")"
   ]
  }
 ],
 "metadata": {
  "kernelspec": {
   "display_name": "Python 3",
   "language": "python",
   "name": "python3"
  },
  "language_info": {
   "codemirror_mode": {
    "name": "ipython",
    "version": 3
   },
   "file_extension": ".py",
   "mimetype": "text/x-python",
   "name": "python",
   "nbconvert_exporter": "python",
   "pygments_lexer": "ipython3",
   "version": "3.7.2+"
  }
 },
 "nbformat": 4,
 "nbformat_minor": 2
}
